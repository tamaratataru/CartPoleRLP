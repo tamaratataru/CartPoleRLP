{
 "cells": [
  {
   "attachments": {},
   "cell_type": "markdown",
   "metadata": {},
   "source": [
    "## Reinforcement Learning (Final Assignment)\n",
    "#### Team 29\n",
    "#### Kees Wierenga\n",
    "#### Tamara Tataru"
   ]
  },
  {
   "cell_type": "code",
   "execution_count": 1,
   "metadata": {},
   "outputs": [],
   "source": [
    "import numpy as np\n",
    "import random\n",
    "import gym\n",
    "import time\n",
    "import matplotlib.pyplot as plt\n",
    "from IPython import display\n",
    "%matplotlib inline"
   ]
  },
  {
   "attachments": {},
   "cell_type": "markdown",
   "metadata": {},
   "source": [
    "## Environment - Taxi-v3\n",
    "### Q-Learning Algorithm"
   ]
  },
  {
   "attachments": {},
   "cell_type": "markdown",
   "metadata": {},
   "source": [
    "### Initialize Q-Table and count array"
   ]
  },
  {
   "cell_type": "code",
   "execution_count": 3,
   "metadata": {},
   "outputs": [],
   "source": [
    "def initialize_Q_table(env):\n",
    "    \"\"\"\n",
    "    For the given environment, the possible actions are integers from 0-5, \n",
    "    and the possible states are integers from 0-499.\n",
    "    Therefore, the Q-Value of, for example, taking action 3 in state 156 can be found as Q[156, 3]\n",
    "    \"\"\"\n",
    "\n",
    "    return np.zeros([env.observation_space.n, env.action_space.n])\n",
    "\n",
    "def init_count_arary(env):\n",
    "    return np.zeros([env.observation_space.n, env.action_space.n])\n"
   ]
  },
  {
   "attachments": {},
   "cell_type": "markdown",
   "metadata": {},
   "source": [
    "### Define UCB policy"
   ]
  },
  {
   "cell_type": "code",
   "execution_count": 4,
   "metadata": {},
   "outputs": [],
   "source": [
    "\n",
    "def get_UCB_action(Q, state, N, env, step, c):\n",
    "    argMax = 0 \n",
    "    iMax = 0 \n",
    "    for i in range (env.env.action_space.n):\n",
    "        if N[state, i] == 0 or step ==0:\n",
    "            temp = float('inf')\n",
    "        else:         \n",
    "            temp = Q[state, i] + (c * np.sqrt(np.log(step) / N[state, i]))\n",
    "        if temp > argMax:\n",
    "            iMax = i\n",
    "            argMax = temp\n",
    "    N[state, iMax] = N[state,iMax] + 1 \n",
    "    return iMax\n",
    "\n"
   ]
  },
  {
   "cell_type": "markdown",
   "metadata": {},
   "source": [
    "### Define steps to follow by agent during an episode"
   ]
  },
  {
   "cell_type": "code",
   "execution_count": 5,
   "metadata": {},
   "outputs": [],
   "source": [
    "def execute_episode(Q, N, max_timesteps, c):\n",
    "    \n",
    "    # Initialize Rewards historic\n",
    "    rewards = list()\n",
    "    \n",
    "    # Reset environment\n",
    "    state, _ = env.reset()\n",
    "    \n",
    "    for s in range(max_timesteps):\n",
    "        \n",
    "        # Pick action following epsilon-greedy policy\n",
    "        action = get_UCB_action(Q, state,N, env, s, c )\n",
    "        \n",
    "        # Perform action and receive new state S' and reward R\n",
    "        new_state, reward, done, info, _ = env.step(action)\n",
    "        rewards.append(reward)\n",
    "        \n",
    "        # Update Q-values \n",
    "        old_value = Q[state, action]\n",
    "        next_max = np.max(Q[new_state])\n",
    "        new_value = (1 - step_size)*old_value + step_size*(reward + discount_factor * next_max)\n",
    "        Q[state, action] = new_value\n",
    "        \n",
    "        state = new_state\n",
    "\n",
    "        if done:\n",
    "            break\n",
    "      \n",
    "    return Q, sum(rewards)\n",
    "    "
   ]
  },
  {
   "cell_type": "markdown",
   "metadata": {},
   "source": [
    "### Train Agent"
   ]
  },
  {
   "cell_type": "code",
   "execution_count": 6,
   "metadata": {},
   "outputs": [],
   "source": [
    "step_size = 0.05\n",
    "discount_factor = 0.9\n",
    "n_episodes = 60000\n",
    "n_steps = 500\n",
    "\n",
    "env = gym.make('Taxi-v3').env\n",
    "rewards_history = list()\n",
    "\n",
    "def train_q_learning(c):\n",
    "    \n",
    "    Q = initialize_Q_table(env)\n",
    "    N = init_count_arary(env)\n",
    "    for episode in range(n_episodes):\n",
    "        print(f'Training on Episode {episode+1}... c: {c}', end=\"\\r\")\n",
    "\n",
    "        Q, reward = execute_episode(Q, N, n_steps, c)\n",
    "        \n",
    "        rewards_history.append(reward)\n",
    "        \n",
    "    return Q, rewards_history\n",
    "    "
   ]
  },
  {
   "cell_type": "code",
   "execution_count": 7,
   "metadata": {},
   "outputs": [
    {
     "name": "stdout",
     "output_type": "stream",
     "text": [
      "Training on Episode 60000... c: 10\r"
     ]
    }
   ],
   "source": [
    "trained_Q, rewards_history = train_q_learning(10)  \n",
    "\n"
   ]
  },
  {
   "cell_type": "markdown",
   "metadata": {},
   "source": [
    "### Evaluate Agent's performance"
   ]
  },
  {
   "cell_type": "markdown",
   "metadata": {},
   "source": [
    "#### Rewards history"
   ]
  },
  {
   "cell_type": "code",
   "execution_count": 8,
   "metadata": {},
   "outputs": [
    {
     "data": {
      "image/png": "[encoded data removed]",
      "text/plain": [
       "<Figure size 432x288 with 1 Axes>"
      ]
     },
     "metadata": {
      "needs_background": "light"
     },
     "output_type": "display_data"
    }
   ],
   "source": [
    "import matplotlib.pyplot as plt\n",
    "\n",
    "plt.plot(range(n_episodes), rewards_history)\n",
    "plt.show()"
   ]
  },
  {
   "cell_type": "markdown",
   "metadata": {},
   "source": [
    "#### Visualization of the Trained Agent"
   ]
  },
  {
   "cell_type": "code",
   "execution_count": 9,
   "metadata": {},
   "outputs": [],
   "source": [
    "def execute_episodes_on_trained_agent(Q, n_episodes):\n",
    "    \n",
    "    episode_rewards = dict()\n",
    "    for episode in range(n_episodes):\n",
    "        print(f'Executing Episode {episode+1}...')\n",
    "        \n",
    "        # Initialize historics\n",
    "        rewards = list()\n",
    "\n",
    "        state, _ = env.reset()\n",
    "\n",
    "        done = False\n",
    "        n_steps = 0\n",
    "\n",
    "        while not done and n_steps < 100:\n",
    "\n",
    "            action = np.argmax(Q[state])\n",
    "\n",
    "            state, reward, done, _, _ = env.step(action)\n",
    "            rewards.append(reward)\n",
    "            n_steps += 1\n",
    "            \n",
    "        episode_rewards[episode] = (sum(rewards), n_steps)\n",
    "        print(f'Episode {episode+1} took {n_steps} steps, and got a reward of {sum(rewards)}\\n')\n",
    "\n",
    "    return episode_rewards"
   ]
  },
  {
   "cell_type": "code",
   "execution_count": 10,
   "metadata": {},
   "outputs": [
    {
     "name": "stdout",
     "output_type": "stream",
     "text": [
      "Executing Episode 1...\n",
      "Episode 1 took 100 steps, and got a reward of -100\n",
      "\n",
      "Executing Episode 2...\n",
      "Episode 2 took 13 steps, and got a reward of 8\n",
      "\n",
      "Executing Episode 3...\n",
      "Episode 3 took 100 steps, and got a reward of -100\n",
      "\n",
      "Executing Episode 4...\n",
      "Episode 4 took 17 steps, and got a reward of 4\n",
      "\n",
      "Executing Episode 5...\n",
      "Episode 5 took 100 steps, and got a reward of -100\n",
      "\n",
      "Executing Episode 6...\n",
      "Episode 6 took 100 steps, and got a reward of -100\n",
      "\n",
      "Executing Episode 7...\n",
      "Episode 7 took 10 steps, and got a reward of 11\n",
      "\n",
      "Executing Episode 8...\n",
      "Episode 8 took 100 steps, and got a reward of -100\n",
      "\n",
      "Executing Episode 9...\n",
      "Episode 9 took 100 steps, and got a reward of -100\n",
      "\n",
      "Executing Episode 10...\n",
      "Episode 10 took 100 steps, and got a reward of -100\n",
      "\n",
      "\n",
      "\n",
      "\n",
      "Average number of timesteps per episode:  74.0\n",
      "Average reward per episode:  -67.7\n"
     ]
    }
   ],
   "source": [
    "n_test_episodes = 10\n",
    "trained_agent_rewards = execute_episodes_on_trained_agent(trained_Q, n_test_episodes)\n",
    "\n",
    "avg_steps = sum([episode_info[1] for episode_info in trained_agent_rewards.values()])/n_test_episodes\n",
    "avg_reward = sum([episode_info[0] for episode_info in trained_agent_rewards.values()])/n_test_episodes\n",
    "\n",
    "print('\\n\\n')\n",
    "print('Average number of timesteps per episode: ', avg_steps)\n",
    "print('Average reward per episode: ', avg_reward)"
   ]
  }
 ],
 "metadata": {
  "kernelspec": {
   "display_name": "Python 3",
   "language": "python",
   "name": "python3"
  },
  "language_info": {
   "codemirror_mode": {
    "name": "ipython",
    "version": 3
   },
   "file_extension": ".py",
   "mimetype": "text/x-python",
   "name": "python",
   "nbconvert_exporter": "python",
   "pygments_lexer": "ipython3",
   "version": "3.10.2 (tags/v3.10.2:a58ebcc, Jan 17 2022, 14:12:15) [MSC v.1929 64 bit (AMD64)]"
  },
  "vscode": {
   "interpreter": {
    "hash": "116bfafb5e177d7c9f89e6c9a94801bbad54c54467ca278ddb9cf43bc194b7c4"
   }
  }
 },
 "nbformat": 4,
 "nbformat_minor": 2
}
